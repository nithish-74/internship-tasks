{
 "cells": [
  {
   "cell_type": "code",
   "execution_count": 1,
   "id": "9e9c09ac-0dd6-4709-ada3-886b71b1edb8",
   "metadata": {},
   "outputs": [],
   "source": [
    "import pandas as pd\n",
    "import numpy as np"
   ]
  },
  {
   "cell_type": "code",
   "execution_count": 56,
   "id": "64f667b6-7bcf-46d8-98f0-7fd5e90385a6",
   "metadata": {},
   "outputs": [
    {
     "name": "stdout",
     "output_type": "stream",
     "text": [
      "       symbol        date      open      high       low     close    volume\n",
      "0         AAL  2014-01-02   25.0700   25.8200   25.0600   25.3600   8998943\n",
      "1        AAPL  2014-01-02   79.3828   79.5756   78.8601   79.0185  58791957\n",
      "2         AAP  2014-01-02  110.3600  111.8800  109.2900  109.7400    542711\n",
      "3        ABBV  2014-01-02   52.1200   52.3300   51.5200   51.9800   4569061\n",
      "4         ABC  2014-01-02   70.1100   70.2300   69.4800   69.8900   1148391\n",
      "...       ...         ...       ...       ...       ...       ...       ...\n",
      "497467    XYL  2017-12-29   68.5300   68.8000   67.9200   68.2000   1046677\n",
      "497468    YUM  2017-12-29   82.6400   82.7100   81.5900   81.6100   1347613\n",
      "497469    ZBH  2017-12-29  121.7500  121.9500  120.6200  120.6700   1023624\n",
      "497470   ZION  2017-12-29   51.2800   51.5500   50.8100   50.8300   1261916\n",
      "497471    ZTS  2017-12-29   72.5500   72.7600   72.0400   72.0400   1704122\n",
      "\n",
      "[497472 rows x 7 columns]\n"
     ]
    }
   ],
   "source": [
    "pd.set_option('display.max_rows', 100)\n",
    "pd.set_option('display.max_columns',None)\n",
    "df=pd.read_csv(r\"C:\\Users\\reddy\\Downloads\\2) Stock Prices Data Set (1).csv\")\n",
    "df.shape\n",
    "print(df)"
   ]
  },
  {
   "cell_type": "code",
   "execution_count": 20,
   "id": "ee143004-9c3b-4a8b-b19f-a238b509ad7e",
   "metadata": {},
   "outputs": [
    {
     "name": "stdout",
     "output_type": "stream",
     "text": [
      "symbol     0\n",
      "date       0\n",
      "open      11\n",
      "high       8\n",
      "low        8\n",
      "close      0\n",
      "volume     0\n",
      "dtype: int64\n"
     ]
    }
   ],
   "source": [
    "print(df.isnull().sum())\n"
   ]
  },
  {
   "cell_type": "code",
   "execution_count": 25,
   "id": "bf9d8f8d-82c7-44cb-a3d5-d7280d88896e",
   "metadata": {},
   "outputs": [
    {
     "name": "stdout",
     "output_type": "stream",
     "text": [
      "symbol    0\n",
      "date      0\n",
      "open      0\n",
      "high      0\n",
      "low       0\n",
      "close     0\n",
      "volume    0\n",
      "dtype: int64\n"
     ]
    }
   ],
   "source": [
    "df['open']=df['open'].fillna(df['open'].mean())\n",
    "print(df.isnull().sum())"
   ]
  },
  {
   "cell_type": "code",
   "execution_count": 30,
   "id": "84dc9b8a-ab31-4035-ac63-5979a8726165",
   "metadata": {},
   "outputs": [
    {
     "data": {
      "text/html": [
       "<div>\n",
       "<style scoped>\n",
       "    .dataframe tbody tr th:only-of-type {\n",
       "        vertical-align: middle;\n",
       "    }\n",
       "\n",
       "    .dataframe tbody tr th {\n",
       "        vertical-align: top;\n",
       "    }\n",
       "\n",
       "    .dataframe thead th {\n",
       "        text-align: right;\n",
       "    }\n",
       "</style>\n",
       "<table border=\"1\" class=\"dataframe\">\n",
       "  <thead>\n",
       "    <tr style=\"text-align: right;\">\n",
       "      <th></th>\n",
       "      <th>symbol</th>\n",
       "      <th>date</th>\n",
       "      <th>open</th>\n",
       "      <th>high</th>\n",
       "      <th>low</th>\n",
       "      <th>close</th>\n",
       "      <th>volume</th>\n",
       "    </tr>\n",
       "  </thead>\n",
       "  <tbody>\n",
       "    <tr>\n",
       "      <th>0</th>\n",
       "      <td>AAL</td>\n",
       "      <td>2014-01-02</td>\n",
       "      <td>25.0700</td>\n",
       "      <td>25.8200</td>\n",
       "      <td>25.0600</td>\n",
       "      <td>25.3600</td>\n",
       "      <td>8998943</td>\n",
       "    </tr>\n",
       "    <tr>\n",
       "      <th>1</th>\n",
       "      <td>AAPL</td>\n",
       "      <td>2014-01-02</td>\n",
       "      <td>79.3828</td>\n",
       "      <td>79.5756</td>\n",
       "      <td>78.8601</td>\n",
       "      <td>79.0185</td>\n",
       "      <td>58791957</td>\n",
       "    </tr>\n",
       "    <tr>\n",
       "      <th>2</th>\n",
       "      <td>AAP</td>\n",
       "      <td>2014-01-02</td>\n",
       "      <td>110.3600</td>\n",
       "      <td>111.8800</td>\n",
       "      <td>109.2900</td>\n",
       "      <td>109.7400</td>\n",
       "      <td>542711</td>\n",
       "    </tr>\n",
       "    <tr>\n",
       "      <th>3</th>\n",
       "      <td>ABBV</td>\n",
       "      <td>2014-01-02</td>\n",
       "      <td>52.1200</td>\n",
       "      <td>52.3300</td>\n",
       "      <td>51.5200</td>\n",
       "      <td>51.9800</td>\n",
       "      <td>4569061</td>\n",
       "    </tr>\n",
       "    <tr>\n",
       "      <th>4</th>\n",
       "      <td>ABC</td>\n",
       "      <td>2014-01-02</td>\n",
       "      <td>70.1100</td>\n",
       "      <td>70.2300</td>\n",
       "      <td>69.4800</td>\n",
       "      <td>69.8900</td>\n",
       "      <td>1148391</td>\n",
       "    </tr>\n",
       "    <tr>\n",
       "      <th>...</th>\n",
       "      <td>...</td>\n",
       "      <td>...</td>\n",
       "      <td>...</td>\n",
       "      <td>...</td>\n",
       "      <td>...</td>\n",
       "      <td>...</td>\n",
       "      <td>...</td>\n",
       "    </tr>\n",
       "    <tr>\n",
       "      <th>497467</th>\n",
       "      <td>XYL</td>\n",
       "      <td>2017-12-29</td>\n",
       "      <td>68.5300</td>\n",
       "      <td>68.8000</td>\n",
       "      <td>67.9200</td>\n",
       "      <td>68.2000</td>\n",
       "      <td>1046677</td>\n",
       "    </tr>\n",
       "    <tr>\n",
       "      <th>497468</th>\n",
       "      <td>YUM</td>\n",
       "      <td>2017-12-29</td>\n",
       "      <td>82.6400</td>\n",
       "      <td>82.7100</td>\n",
       "      <td>81.5900</td>\n",
       "      <td>81.6100</td>\n",
       "      <td>1347613</td>\n",
       "    </tr>\n",
       "    <tr>\n",
       "      <th>497469</th>\n",
       "      <td>ZBH</td>\n",
       "      <td>2017-12-29</td>\n",
       "      <td>121.7500</td>\n",
       "      <td>121.9500</td>\n",
       "      <td>120.6200</td>\n",
       "      <td>120.6700</td>\n",
       "      <td>1023624</td>\n",
       "    </tr>\n",
       "    <tr>\n",
       "      <th>497470</th>\n",
       "      <td>ZION</td>\n",
       "      <td>2017-12-29</td>\n",
       "      <td>51.2800</td>\n",
       "      <td>51.5500</td>\n",
       "      <td>50.8100</td>\n",
       "      <td>50.8300</td>\n",
       "      <td>1261916</td>\n",
       "    </tr>\n",
       "    <tr>\n",
       "      <th>497471</th>\n",
       "      <td>ZTS</td>\n",
       "      <td>2017-12-29</td>\n",
       "      <td>72.5500</td>\n",
       "      <td>72.7600</td>\n",
       "      <td>72.0400</td>\n",
       "      <td>72.0400</td>\n",
       "      <td>1704122</td>\n",
       "    </tr>\n",
       "  </tbody>\n",
       "</table>\n",
       "<p>497461 rows × 7 columns</p>\n",
       "</div>"
      ],
      "text/plain": [
       "       symbol        date      open      high       low     close    volume\n",
       "0         AAL  2014-01-02   25.0700   25.8200   25.0600   25.3600   8998943\n",
       "1        AAPL  2014-01-02   79.3828   79.5756   78.8601   79.0185  58791957\n",
       "2         AAP  2014-01-02  110.3600  111.8800  109.2900  109.7400    542711\n",
       "3        ABBV  2014-01-02   52.1200   52.3300   51.5200   51.9800   4569061\n",
       "4         ABC  2014-01-02   70.1100   70.2300   69.4800   69.8900   1148391\n",
       "...       ...         ...       ...       ...       ...       ...       ...\n",
       "497467    XYL  2017-12-29   68.5300   68.8000   67.9200   68.2000   1046677\n",
       "497468    YUM  2017-12-29   82.6400   82.7100   81.5900   81.6100   1347613\n",
       "497469    ZBH  2017-12-29  121.7500  121.9500  120.6200  120.6700   1023624\n",
       "497470   ZION  2017-12-29   51.2800   51.5500   50.8100   50.8300   1261916\n",
       "497471    ZTS  2017-12-29   72.5500   72.7600   72.0400   72.0400   1704122\n",
       "\n",
       "[497461 rows x 7 columns]"
      ]
     },
     "execution_count": 30,
     "metadata": {},
     "output_type": "execute_result"
    }
   ],
   "source": [
    "df.drop_duplicates(inplace=True)\n",
    "df"
   ]
  },
  {
   "cell_type": "code",
   "execution_count": 60,
   "id": "7f9e1196-b23e-48b7-a89a-861502ed79cd",
   "metadata": {},
   "outputs": [
    {
     "name": "stdout",
     "output_type": "stream",
     "text": [
      "       symbol        date      open      high       low     close    volume\n",
      "0         AAL  2014-01-02   25.0700   25.8200   25.0600   25.3600   8998943\n",
      "1        AAPL  2014-01-02   79.3828   79.5756   78.8601   79.0185  58791957\n",
      "2         AAP  2014-01-02  110.3600  111.8800  109.2900  109.7400    542711\n",
      "3        ABBV  2014-01-02   52.1200   52.3300   51.5200   51.9800   4569061\n",
      "4         ABC  2014-01-02   70.1100   70.2300   69.4800   69.8900   1148391\n",
      "...       ...         ...       ...       ...       ...       ...       ...\n",
      "497467    XYL  2017-12-29   68.5300   68.8000   67.9200   68.2000   1046677\n",
      "497468    YUM  2017-12-29   82.6400   82.7100   81.5900   81.6100   1347613\n",
      "497469    ZBH  2017-12-29  121.7500  121.9500  120.6200  120.6700   1023624\n",
      "497470   ZION  2017-12-29   51.2800   51.5500   50.8100   50.8300   1261916\n",
      "497471    ZTS  2017-12-29   72.5500   72.7600   72.0400   72.0400   1704122\n",
      "\n",
      "[497472 rows x 7 columns]\n"
     ]
    }
   ],
   "source": [
    "if 'Date' in df.columns:\n",
    "    df['Date'] = pd.to_datetime(df['Date'], errors='coerce')\n",
    "print(df)"
   ]
  },
  {
   "cell_type": "code",
   "execution_count": 62,
   "id": "6aed73e2-fea0-46c5-97c6-9f4ecc1c3db4",
   "metadata": {},
   "outputs": [
    {
     "name": "stdout",
     "output_type": "stream",
     "text": [
      "       symbol        date      open      high       low     close    volume\n",
      "0         AAL  2014-01-02   25.0700   25.8200   25.0600   25.3600   8998943\n",
      "1        AAPL  2014-01-02   79.3828   79.5756   78.8601   79.0185  58791957\n",
      "2         AAP  2014-01-02  110.3600  111.8800  109.2900  109.7400    542711\n",
      "3        ABBV  2014-01-02   52.1200   52.3300   51.5200   51.9800   4569061\n",
      "4         ABC  2014-01-02   70.1100   70.2300   69.4800   69.8900   1148391\n",
      "...       ...         ...       ...       ...       ...       ...       ...\n",
      "497467    XYL  2017-12-29   68.5300   68.8000   67.9200   68.2000   1046677\n",
      "497468    YUM  2017-12-29   82.6400   82.7100   81.5900   81.6100   1347613\n",
      "497469    ZBH  2017-12-29  121.7500  121.9500  120.6200  120.6700   1023624\n",
      "497470   ZION  2017-12-29   51.2800   51.5500   50.8100   50.8300   1261916\n",
      "497471    ZTS  2017-12-29   72.5500   72.7600   72.0400   72.0400   1704122\n",
      "\n",
      "[497472 rows x 7 columns]\n"
     ]
    }
   ],
   "source": [
    "if 'Stock Name' in df.columns:\n",
    "    df['Stock Name'] = df['Stock Name'].str.strip().str.upper()\n",
    "print(df)"
   ]
  },
  {
   "cell_type": "code",
   "execution_count": 63,
   "id": "ba931159-3be6-40c3-83c8-c64ae34f3738",
   "metadata": {},
   "outputs": [
    {
     "name": "stdout",
     "output_type": "stream",
     "text": [
      "\n",
      "Cleaned dataset saved to: C:\\Users\\reddy\\Downloads\\cleaned_stock_prices.csv\n"
     ]
    }
   ],
   "source": [
    "cleaned_path = r\"C:\\Users\\reddy\\Downloads\\cleaned_stock_prices.csv\"\n",
    "df.to_csv(cleaned_path, index=False)\n",
    "print(\"\\nCleaned dataset saved to:\", cleaned_path)"
   ]
  },
  {
   "cell_type": "code",
   "execution_count": null,
   "id": "5a27d439-eae7-4245-b4ae-d24d510cb505",
   "metadata": {},
   "outputs": [],
   "source": []
  }
 ],
 "metadata": {
  "kernelspec": {
   "display_name": "Python 3 (ipykernel)",
   "language": "python",
   "name": "python3"
  },
  "language_info": {
   "codemirror_mode": {
    "name": "ipython",
    "version": 3
   },
   "file_extension": ".py",
   "mimetype": "text/x-python",
   "name": "python",
   "nbconvert_exporter": "python",
   "pygments_lexer": "ipython3",
   "version": "3.13.3"
  }
 },
 "nbformat": 4,
 "nbformat_minor": 5
}
